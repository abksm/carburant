{
 "cells": [
  {
   "cell_type": "code",
   "execution_count": 1,
   "metadata": {},
   "outputs": [],
   "source": [
    "import requests\n",
    "import json\n",
    "from datetime import datetime\n",
    "import zipfile"
   ]
  },
  {
   "cell_type": "code",
   "execution_count": 41,
   "metadata": {},
   "outputs": [
    {
     "name": "stdout",
     "output_type": "stream",
     "text": [
      "File saved successfully.\n",
      "File unzipped successfully.\n"
     ]
    }
   ],
   "source": [
    "url = 'https://donnees.roulez-eco.fr/opendata/instantane'\n",
    "response = requests.get(url)\n",
    "\n",
    "\n",
    "if response.status_code == 200:\n",
    "    zip_path = './instantanes_files/zip/instantane_' + datetime.now().strftime('%Y%m%d_%H%M%S') + '.zip'\n",
    "    with open(zip_path, 'wb') as f:\n",
    "        f.write(response.content)\n",
    "        print('File saved successfully.')\n",
    "\n",
    "    output_folder = './instantanes_files/xml/'\n",
    "\n",
    "    with zipfile.ZipFile(zip_path, 'r') as zip_ref:\n",
    "        zip_ref.extractall(output_folder)\n",
    "        \n",
    "\n",
    "    print('File unzipped successfully.')\n",
    "else:\n",
    "    print('Failed to download the file.')"
   ]
  },
  {
   "cell_type": "code",
   "execution_count": 45,
   "metadata": {},
   "outputs": [
    {
     "name": "stdout",
     "output_type": "stream",
     "text": [
      "File PrixCarburants_instantane.xml converted successfully.\n"
     ]
    }
   ],
   "source": [
    "# !pip install xmltodict\n",
    "#xml to json\n",
    "import xmltodict\n",
    "import json\n",
    "import os\n",
    "\n",
    "xml_folder = './instantanes_files/xml/'\n",
    "json_folder = './instantanes_files/json/'\n",
    "\n",
    "for filename in os.listdir(xml_folder):\n",
    "    if filename.endswith(\".xml\"):\n",
    "        xml_path = xml_folder + filename\n",
    "        json_path = json_folder + filename.replace('.xml', '.json')\n",
    "        with open(xml_path, 'r', encoding='ISO-8859-1') as xml_file:\n",
    "            xml_content = xml_file.read()\n",
    "            json_content = json.dumps(xmltodict.parse(xml_content), indent=4)\n",
    "            with open(json_path, 'w') as json_file:\n",
    "                json_file.write(json_content)\n",
    "                print('File ' + filename + ' converted successfully.')\n",
    "    else:\n",
    "        continue"
   ]
  },
  {
   "cell_type": "code",
   "execution_count": 1,
   "metadata": {},
   "outputs": [],
   "source": [
    "import xml.etree.ElementTree as ET\n",
    "import psycopg2"
   ]
  },
  {
   "cell_type": "code",
   "execution_count": 5,
   "metadata": {},
   "outputs": [],
   "source": [
    "# Parse XML file\n",
    "tree = ET.parse('instantanes_files/xml/PrixCarburants_instantane.xml')\n",
    "root = tree.getroot()"
   ]
  },
  {
   "cell_type": "code",
   "execution_count": 8,
   "metadata": {},
   "outputs": [],
   "source": [
    "# Establish database connection\n",
    "conn = psycopg2.connect(\n",
    "    database=\"carburants\",\n",
    "    user=\"yzpt\",\n",
    "    password=\"yzpt\",\n",
    "    host=\"localhost\",\n",
    "    port=\"5432\"\n",
    ")\n",
    "cursor = conn.cursor()"
   ]
  },
  {
   "cell_type": "code",
   "execution_count": 9,
   "metadata": {},
   "outputs": [],
   "source": [
    "# Create table if it doesn't exist\n",
    "cursor.execute('''\n",
    "    CREATE TABLE IF NOT EXISTS table_from_xml (\n",
    "        record_timestamp TIMESTAMP,\n",
    "        id BIGINT,\n",
    "        latitude REAL,\n",
    "        longitude REAL,\n",
    "        cp VARCHAR(50),\n",
    "        pop TEXT,\n",
    "        adresse TEXT,\n",
    "        ville VARCHAR(50),\n",
    "        horaires TEXT,\n",
    "        services TEXT,\n",
    "        gazole_maj TIMESTAMP,\n",
    "        gazole_prix REAL,\n",
    "        sp95_maj TIMESTAMP,\n",
    "        sp95_prix REAL,\n",
    "        e85_maj TIMESTAMP,\n",
    "        e85_prix REAL,\n",
    "        gplc_maj TIMESTAMP,\n",
    "        gplc_prix REAL,\n",
    "        e10_maj TIMESTAMP,\n",
    "        e10_prix REAL,\n",
    "        sp98_maj TIMESTAMP,\n",
    "        sp98_prix REAL,\n",
    "        carburants_disponibles VARCHAR(50),\n",
    "        carburants_indisponibles VARCHAR(50),\n",
    "        horaires_automate_24_24 TEXT,\n",
    "        departement VARCHAR(50),\n",
    "        code_departement VARCHAR(50),\n",
    "        region VARCHAR(50),\n",
    "        code_region VARCHAR(50),\n",
    "        PRIMARY KEY (record_timestamp, id)\n",
    "        );\n",
    "''')\n",
    "conn.commit()"
   ]
  },
  {
   "cell_type": "code",
   "execution_count": 18,
   "metadata": {},
   "outputs": [
    {
     "name": "stdout",
     "output_type": "stream",
     "text": [
      "18230001\n",
      "54300001\n",
      "45450003\n"
     ]
    }
   ],
   "source": [
    "for item in root.findall('pdv')[:3]:\n",
    "    print(item.get('id'))\n",
    "\n"
   ]
  },
  {
   "cell_type": "code",
   "execution_count": 22,
   "metadata": {},
   "outputs": [
    {
     "name": "stdout",
     "output_type": "stream",
     "text": [
      "type(id):  <class 'int'> type(latitude):  <class 'float'> type(longitude):  <class 'float'>\n"
     ]
    },
    {
     "ename": "InFailedSqlTransaction",
     "evalue": "current transaction is aborted, commands ignored until end of transaction block\n",
     "output_type": "error",
     "traceback": [
      "\u001b[0;31m---------------------------------------------------------------------------\u001b[0m",
      "\u001b[0;31mInFailedSqlTransaction\u001b[0m                    Traceback (most recent call last)",
      "\u001b[1;32m/home/yzpt/projects/carburant_gcp/nb_extract_data.ipynb Cell 9\u001b[0m line \u001b[0;36m9\n\u001b[1;32m      <a href='vscode-notebook-cell:/home/yzpt/projects/carburant_gcp/nb_extract_data.ipynb#X11sZmlsZQ%3D%3D?line=5'>6</a>\u001b[0m     \u001b[39mprint\u001b[39m(\u001b[39m'\u001b[39m\u001b[39mtype(id): \u001b[39m\u001b[39m'\u001b[39m, \u001b[39mtype\u001b[39m(\u001b[39mid\u001b[39m), \u001b[39m'\u001b[39m\u001b[39mtype(latitude): \u001b[39m\u001b[39m'\u001b[39m, \u001b[39mtype\u001b[39m(latitude), \u001b[39m'\u001b[39m\u001b[39mtype(longitude): \u001b[39m\u001b[39m'\u001b[39m, \u001b[39mtype\u001b[39m(longitude))\n\u001b[1;32m      <a href='vscode-notebook-cell:/home/yzpt/projects/carburant_gcp/nb_extract_data.ipynb#X11sZmlsZQ%3D%3D?line=7'>8</a>\u001b[0m     \u001b[39m# Insert data into the table\u001b[39;00m\n\u001b[0;32m----> <a href='vscode-notebook-cell:/home/yzpt/projects/carburant_gcp/nb_extract_data.ipynb#X11sZmlsZQ%3D%3D?line=8'>9</a>\u001b[0m     cursor\u001b[39m.\u001b[39;49mexecute(\u001b[39m'''\u001b[39;49m\n\u001b[1;32m     <a href='vscode-notebook-cell:/home/yzpt/projects/carburant_gcp/nb_extract_data.ipynb#X11sZmlsZQ%3D%3D?line=9'>10</a>\u001b[0m \u001b[39m        INSERT INTO table_from_xml (id, latitude, longitude)\u001b[39;49m\n\u001b[1;32m     <a href='vscode-notebook-cell:/home/yzpt/projects/carburant_gcp/nb_extract_data.ipynb#X11sZmlsZQ%3D%3D?line=10'>11</a>\u001b[0m \u001b[39m        VALUES (\u001b[39;49m\u001b[39m%s\u001b[39;49;00m\u001b[39m, \u001b[39;49m\u001b[39m%s\u001b[39;49;00m\u001b[39m, \u001b[39;49m\u001b[39m%s\u001b[39;49;00m\u001b[39m);\u001b[39;49m\n\u001b[1;32m     <a href='vscode-notebook-cell:/home/yzpt/projects/carburant_gcp/nb_extract_data.ipynb#X11sZmlsZQ%3D%3D?line=11'>12</a>\u001b[0m \u001b[39m        \u001b[39;49m\u001b[39m'''\u001b[39;49m, \n\u001b[1;32m     <a href='vscode-notebook-cell:/home/yzpt/projects/carburant_gcp/nb_extract_data.ipynb#X11sZmlsZQ%3D%3D?line=12'>13</a>\u001b[0m         (\u001b[39mid\u001b[39;49m, latitude, longitude))\n\u001b[1;32m     <a href='vscode-notebook-cell:/home/yzpt/projects/carburant_gcp/nb_extract_data.ipynb#X11sZmlsZQ%3D%3D?line=14'>15</a>\u001b[0m conn\u001b[39m.\u001b[39mcommit()\n\u001b[1;32m     <a href='vscode-notebook-cell:/home/yzpt/projects/carburant_gcp/nb_extract_data.ipynb#X11sZmlsZQ%3D%3D?line=16'>17</a>\u001b[0m \u001b[39m# Close the database connection\u001b[39;00m\n",
      "\u001b[0;31mInFailedSqlTransaction\u001b[0m: current transaction is aborted, commands ignored until end of transaction block\n"
     ]
    }
   ],
   "source": [
    "# Insert data into the database\n",
    "for item in root.findall('pdv'):\n",
    "    id = int(item.get('id'))\n",
    "    latitude = float(item.get('latitude'))\n",
    "    longitude = float(item.get('longitude'))\n",
    "    print('type(id): ', type(id), 'type(latitude): ', type(latitude), 'type(longitude): ', type(longitude))\n",
    "\n",
    "    # Insert data into the table\n",
    "    cursor.execute('''\n",
    "        INSERT INTO table_from_xml (id, latitude, longitude)\n",
    "        VALUES (%s, %s, %s);\n",
    "        ''', \n",
    "        (id, latitude, longitude))\n",
    "\n",
    "conn.commit()\n",
    "\n",
    "# Close the database connection\n",
    "cursor.close()\n",
    "conn.close()\n"
   ]
  },
  {
   "cell_type": "code",
   "execution_count": null,
   "metadata": {},
   "outputs": [],
   "source": []
  }
 ],
 "metadata": {
  "kernelspec": {
   "display_name": "venv",
   "language": "python",
   "name": "python3"
  },
  "language_info": {
   "codemirror_mode": {
    "name": "ipython",
    "version": 3
   },
   "file_extension": ".py",
   "mimetype": "text/x-python",
   "name": "python",
   "nbconvert_exporter": "python",
   "pygments_lexer": "ipython3",
   "version": "3.10.12"
  }
 },
 "nbformat": 4,
 "nbformat_minor": 2
}
