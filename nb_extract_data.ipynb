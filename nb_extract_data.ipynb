{
 "cells": [
  {
   "cell_type": "code",
   "execution_count": 1,
   "metadata": {},
   "outputs": [],
   "source": [
    "import requests\n",
    "import json\n",
    "from datetime import datetime\n",
    "import zipfile"
   ]
  },
  {
   "cell_type": "code",
   "execution_count": 41,
   "metadata": {},
   "outputs": [
    {
     "name": "stdout",
     "output_type": "stream",
     "text": [
      "File saved successfully.\n",
      "File unzipped successfully.\n"
     ]
    }
   ],
   "source": [
    "url = 'https://donnees.roulez-eco.fr/opendata/instantane'\n",
    "response = requests.get(url)\n",
    "\n",
    "\n",
    "if response.status_code == 200:\n",
    "    zip_path = './instantanes_files/zip/instantane_' + datetime.now().strftime('%Y%m%d_%H%M%S') + '.zip'\n",
    "    with open(zip_path, 'wb') as f:\n",
    "        f.write(response.content)\n",
    "        print('File saved successfully.')\n",
    "\n",
    "    output_folder = './instantanes_files/xml/'\n",
    "\n",
    "    with zipfile.ZipFile(zip_path, 'r') as zip_ref:\n",
    "        zip_ref.extractall(output_folder)\n",
    "        \n",
    "\n",
    "    print('File unzipped successfully.')\n",
    "else:\n",
    "    print('Failed to download the file.')"
   ]
  },
  {
   "cell_type": "code",
   "execution_count": 43,
   "metadata": {},
   "outputs": [
    {
     "name": "stdout",
     "output_type": "stream",
     "text": [
      "Requirement already satisfied: xmltodict in ./venv/lib/python3.10/site-packages (0.13.0)\n"
     ]
    }
   ],
   "source": [
    "!pip install xmltodict"
   ]
  },
  {
   "cell_type": "code",
   "execution_count": 45,
   "metadata": {},
   "outputs": [
    {
     "name": "stdout",
     "output_type": "stream",
     "text": [
      "File PrixCarburants_instantane.xml converted successfully.\n"
     ]
    }
   ],
   "source": [
    "#xml to json\n",
    "import xmltodict\n",
    "import json\n",
    "import os\n",
    "\n",
    "xml_folder = './instantanes_files/xml/'\n",
    "json_folder = './instantanes_files/json/'\n",
    "\n",
    "for filename in os.listdir(xml_folder):\n",
    "    if filename.endswith(\".xml\"):\n",
    "        xml_path = xml_folder + filename\n",
    "        json_path = json_folder + filename.replace('.xml', '.json')\n",
    "        with open(xml_path, 'r', encoding='ISO-8859-1') as xml_file:\n",
    "            xml_content = xml_file.read()\n",
    "            json_content = json.dumps(xmltodict.parse(xml_content), indent=4)\n",
    "            with open(json_path, 'w') as json_file:\n",
    "                json_file.write(json_content)\n",
    "                print('File ' + filename + ' converted successfully.')\n",
    "    else:\n",
    "        continue\n",
    "\n"
   ]
  }
 ],
 "metadata": {
  "kernelspec": {
   "display_name": "venv",
   "language": "python",
   "name": "python3"
  },
  "language_info": {
   "codemirror_mode": {
    "name": "ipython",
    "version": 3
   },
   "file_extension": ".py",
   "mimetype": "text/x-python",
   "name": "python",
   "nbconvert_exporter": "python",
   "pygments_lexer": "ipython3",
   "version": "3.10.12"
  }
 },
 "nbformat": 4,
 "nbformat_minor": 2
}
